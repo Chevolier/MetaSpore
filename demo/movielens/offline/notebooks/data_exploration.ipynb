{
 "cells": [
  {
   "cell_type": "markdown",
   "id": "c8cee935-f394-4eb6-84b4-b35483576c11",
   "metadata": {},
   "source": [
    "### 数据集说明\n",
    "针对MovieLens 1M的数据，这个数据集中一共包含了6040个用户对3883部电影进行评价。我们在这里简要的做下数据分析：\n",
    "1. 首先，使用饼图分析一下电影的评分的分布情况，即从1～5评分的百分比；\n",
    "2. 其次，使用增强箱图分析一下不同类型电影的流行度分布，横轴是电影的类型，纵轴是评价电影的用户数量；\n",
    "3. 最后，使用柱状图分析一下用户观看电影的数量分布。"
   ]
  },
  {
   "cell_type": "code",
   "execution_count": null,
   "id": "f34a80e0-0f25-403a-9099-c4e6f1c18c0a",
   "metadata": {},
   "outputs": [],
   "source": []
  }
 ],
 "metadata": {
  "kernelspec": {
   "display_name": "Python 3 (ipykernel)",
   "language": "python",
   "name": "python3"
  },
  "language_info": {
   "codemirror_mode": {
    "name": "ipython",
    "version": 3
   },
   "file_extension": ".py",
   "mimetype": "text/x-python",
   "name": "python",
   "nbconvert_exporter": "python",
   "pygments_lexer": "ipython3",
   "version": "3.8.10"
  }
 },
 "nbformat": 4,
 "nbformat_minor": 5
}
