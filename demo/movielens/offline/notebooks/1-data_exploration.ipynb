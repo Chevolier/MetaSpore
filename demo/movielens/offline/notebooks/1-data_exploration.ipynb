{
 "cells": [
  {
   "cell_type": "markdown",
   "id": "9d1277ca-e639-4494-adc0-5f7bf30924a7",
   "metadata": {
    "execution": {
     "iopub.execute_input": "2022-05-23T06:47:14.328901Z",
     "iopub.status.busy": "2022-05-23T06:47:14.328593Z",
     "iopub.status.idle": "2022-05-23T06:47:14.331989Z",
     "shell.execute_reply": "2022-05-23T06:47:14.331435Z",
     "shell.execute_reply.started": "2022-05-23T06:47:14.328876Z"
    },
    "tags": []
   },
   "source": [
    "# MovieLens-1M数据处理\n",
    "在这个notebook中，我们会演示使用如何在AlphaIDE中使用MetaSpore，进行数据准备、Spark环境初始化、数据读取、数据分析等基础的操作。"
   ]
  },
  {
   "cell_type": "markdown",
   "id": "4efaa9a2-d8d0-4b7b-9283-83f28ffd834d",
   "metadata": {},
   "source": [
    "### 1. 数据准备\n",
    "从MovieLens网站上下载数据，并上传到S3存储。"
   ]
  },
  {
   "cell_type": "code",
   "execution_count": 1,
   "id": "fc080836-a334-4e9e-b146-a347344878a4",
   "metadata": {
    "execution": {
     "iopub.execute_input": "2022-05-23T12:13:08.140621Z",
     "iopub.status.busy": "2022-05-23T12:13:08.140437Z",
     "iopub.status.idle": "2022-05-23T12:13:13.160172Z",
     "shell.execute_reply": "2022-05-23T12:13:13.159570Z",
     "shell.execute_reply.started": "2022-05-23T12:13:08.140559Z"
    },
    "tags": []
   },
   "outputs": [
    {
     "name": "stdout",
     "output_type": "stream",
     "text": [
      "--2022-05-23 20:13:08--  https://files.grouplens.org/datasets/movielens/ml-1m.zip\n",
      "Resolving files.grouplens.org (files.grouplens.org)... 128.101.65.152\n",
      "Connecting to files.grouplens.org (files.grouplens.org)|128.101.65.152|:443... connected.\n",
      "HTTP request sent, awaiting response... 200 OK\n",
      "Length: 5917549 (5.6M) [application/zip]\n",
      "Saving to: ‘ml-1m.zip’\n",
      "\n",
      "ml-1m.zip           100%[===================>]   5.64M  3.12MB/s    in 1.8s    \n",
      "\n",
      "2022-05-23 20:13:13 (3.12 MB/s) - ‘ml-1m.zip’ saved [5917549/5917549]\n",
      "\n"
     ]
    }
   ],
   "source": [
    "!wget https://files.grouplens.org/datasets/movielens/ml-1m.zip"
   ]
  },
  {
   "cell_type": "code",
   "execution_count": 2,
   "id": "f16d85e0-8fc0-4701-8a15-7d3c9d90b48a",
   "metadata": {
    "execution": {
     "iopub.execute_input": "2022-05-23T12:13:13.161877Z",
     "iopub.status.busy": "2022-05-23T12:13:13.161443Z",
     "iopub.status.idle": "2022-05-23T12:13:13.739637Z",
     "shell.execute_reply": "2022-05-23T12:13:13.739088Z",
     "shell.execute_reply.started": "2022-05-23T12:13:13.161853Z"
    }
   },
   "outputs": [
    {
     "name": "stdout",
     "output_type": "stream",
     "text": [
      "Archive:  ml-1m.zip\n",
      "   creating: ml-1m/\n",
      "  inflating: ml-1m/movies.dat        \n",
      "  inflating: ml-1m/ratings.dat       \n",
      "  inflating: ml-1m/README            \n",
      "  inflating: ml-1m/users.dat         \n"
     ]
    }
   ],
   "source": [
    "!unzip ml-1m.zip"
   ]
  },
  {
   "cell_type": "code",
   "execution_count": 3,
   "id": "603ddc5b-1c47-4af7-aec5-e75f11bcc273",
   "metadata": {
    "execution": {
     "iopub.execute_input": "2022-05-23T12:13:13.740743Z",
     "iopub.status.busy": "2022-05-23T12:13:13.740550Z",
     "iopub.status.idle": "2022-05-23T12:13:15.102047Z",
     "shell.execute_reply": "2022-05-23T12:13:15.101441Z",
     "shell.execute_reply.started": "2022-05-23T12:13:13.740702Z"
    },
    "tags": []
   },
   "outputs": [
    {
     "name": "stdout",
     "output_type": "stream",
     "text": [
      "upload: ml-1m/README to s3://alphaide-demo/movielens/ml-1m/README\n",
      "upload: ml-1m/users.dat to s3://alphaide-demo/movielens/ml-1m/users.dat\n",
      "upload: ml-1m/movies.dat to s3://alphaide-demo/movielens/ml-1m/movies.dat\n",
      "upload: ml-1m/ratings.dat to s3://alphaide-demo/movielens/ml-1m/ratings.dat\n"
     ]
    }
   ],
   "source": [
    "!aws s3 cp --recursive ml-1m  s3://alphaide-demo/movielens/ml-1m/"
   ]
  },
  {
   "cell_type": "code",
   "execution_count": 4,
   "id": "a24dc465-23cb-4a4f-a3fe-99fcc00164d4",
   "metadata": {
    "execution": {
     "iopub.execute_input": "2022-05-23T12:13:15.103250Z",
     "iopub.status.busy": "2022-05-23T12:13:15.103023Z",
     "iopub.status.idle": "2022-05-23T12:13:15.874191Z",
     "shell.execute_reply": "2022-05-23T12:13:15.873536Z",
     "shell.execute_reply.started": "2022-05-23T12:13:15.103228Z"
    },
    "tags": []
   },
   "outputs": [
    {
     "name": "stdout",
     "output_type": "stream",
     "text": [
      "                           PRE rank/\n",
      "                           PRE schema/\n",
      "2022-05-23 20:13:14       5577 README\n",
      "2022-05-23 20:13:14     171308 movies.dat\n",
      "2022-05-23 20:13:14   24594131 ratings.dat\n",
      "2022-05-23 20:13:14     134368 users.dat\n"
     ]
    }
   ],
   "source": [
    "!aws s3 ls s3://alphaide-demo/movielens/ml-1m/"
   ]
  },
  {
   "cell_type": "markdown",
   "id": "2766c4b6-9a21-41bd-be8c-e9e36840fbe6",
   "metadata": {},
   "source": [
    "### 2. Spark环境初始化与数据读取\n",
    "初始化Spark环境，并读取Movies、Users、Ratings等数据表，测试我们读取过程是否可以顺利完成"
   ]
  },
  {
   "cell_type": "code",
   "execution_count": 5,
   "id": "3b03ad29-2726-4420-b853-78f03eb8cae0",
   "metadata": {
    "execution": {
     "iopub.execute_input": "2022-05-23T12:13:15.875649Z",
     "iopub.status.busy": "2022-05-23T12:13:15.875317Z",
     "iopub.status.idle": "2022-05-23T12:13:16.459366Z",
     "shell.execute_reply": "2022-05-23T12:13:16.458882Z",
     "shell.execute_reply.started": "2022-05-23T12:13:15.875626Z"
    },
    "tags": []
   },
   "outputs": [],
   "source": [
    "import metaspore as ms\n",
    "import yaml\n",
    "import argparse\n",
    "from pyspark.sql import SparkSession\n",
    "from pyspark.sql import functions as F\n",
    "from pyspark.sql.types import StructType, StructField, IntegerType, FloatType, LongType, StringType\n",
    "from functools import reduce\n",
    "\n",
    "def load_config(path):\n",
    "    params = dict()\n",
    "    with open(path, 'r') as stream:\n",
    "        params = yaml.load(stream, Loader=yaml.FullLoader)\n",
    "        print('Debug -- load config: ', params)\n",
    "    return params\n",
    "\n",
    "def init_spark():\n",
    "    \n",
    "    spark_confs={\n",
    "        \"spark.network.timeout\":\"500\",\n",
    "        \"spark.ui.showConsoleProgress\": \"true\",\n",
    "        \"spark.kubernetes.executor.deleteOnTermination\":\"true\",\n",
    "    }\n",
    "    spark_session = ms.spark.get_session(local=local,\n",
    "                                         app_name=app_name,\n",
    "                                         batch_size=batch_size,\n",
    "                                         worker_count=worker_count,\n",
    "                                         server_count=server_count,\n",
    "                                         worker_memory=worker_memory,\n",
    "                                         server_memory=server_memory,\n",
    "                                         coordinator_memory=coordinator_memory,\n",
    "                                         spark_confs=spark_confs)\n",
    "    sc = spark_session.sparkContext\n",
    "    print('Debug -- spark init')\n",
    "    print('Debug -- version:', sc.version)   \n",
    "    print('Debug -- applicaitonId:', sc.applicationId)\n",
    "    print('Debug -- uiWebUrl:', sc.uiWebUrl)\n",
    "    return spark_session\n",
    "\n",
    "def stop_spark(spark):\n",
    "    print('Debug -- spark stop')\n",
    "    spark.sparkContext.stop()\n",
    "\n",
    "def read_dataset(**kwargs):\n",
    "    ### read movies\n",
    "    movies_schema = StructType([\n",
    "            StructField(\"movie_id\", LongType(), True),\n",
    "            StructField(\"title\", StringType(), True),\n",
    "            StructField(\"genre\", StringType(), True)\n",
    "    ])\n",
    "\n",
    "    movies = spark.read.csv(movies_path, sep='::',inferSchema=False, header=False, schema=movies_schema)\n",
    "    print('Debug -- movies sample:')\n",
    "    movies.show(10)\n",
    "\n",
    "    ### read ratings\n",
    "    ratings_schema = StructType([\n",
    "            StructField(\"user_id\", LongType(), True),\n",
    "            StructField(\"movie_id\", LongType(), True),\n",
    "            StructField(\"rating\", FloatType(), True),\n",
    "            StructField(\"timestamp\", LongType(), True)\n",
    "    ])\n",
    "\n",
    "    ratings = spark.read.csv(ratings_path, sep='::', inferSchema=False, header=False, schema=ratings_schema)\n",
    "    print('Debug -- ratings sample:')\n",
    "    ratings.show(10)\n",
    "\n",
    "    ### read users\n",
    "    users_schema = StructType([\n",
    "            StructField(\"user_id\", LongType(), True),\n",
    "            StructField(\"gender\", StringType(), True),\n",
    "            StructField(\"age\", IntegerType(), True),\n",
    "            StructField(\"occupation\", StringType(), True),\n",
    "            StructField(\"zip\", StringType(), True)\n",
    "    ])\n",
    "\n",
    "    users = spark.read.csv(users_path, sep='::', inferSchema=False, header=False, schema=users_schema)\n",
    "    print('Debug -- users sample:')\n",
    "    users.show(10)\n",
    "\n",
    "    return users, movies, ratings\n",
    "\n",
    "def merge_dataset(users, movies, ratings):\n",
    "    # merge movies, users, ratings\n",
    "    dataset = ratings.join(users, on=ratings.user_id==users.user_id, how='leftouter').drop(users.user_id)\n",
    "    dataset = dataset.join(movies, on=dataset.movie_id==movies.movie_id,how='leftouter').drop(movies.movie_id)\n",
    "    dataset = dataset.select('user_id', \\\n",
    "                            'gender', \\\n",
    "                            'age', \\\n",
    "                            'occupation', \\\n",
    "                            'zip', \\\n",
    "                            'movie_id', \\\n",
    "                            'title', \\\n",
    "                            'genre', \\\n",
    "                            'rating', \\\n",
    "                            'timestamp'\n",
    "                            )\n",
    "    print('Debug -- dataset sample:')\n",
    "    dataset.show(10)\n",
    "    return dataset"
   ]
  },
  {
   "cell_type": "code",
   "execution_count": 6,
   "id": "1c41c048-dfb8-44ef-b695-6b9e67f10800",
   "metadata": {
    "execution": {
     "iopub.execute_input": "2022-05-23T12:13:16.460402Z",
     "iopub.status.busy": "2022-05-23T12:13:16.460193Z",
     "iopub.status.idle": "2022-05-23T12:13:21.050169Z",
     "shell.execute_reply": "2022-05-23T12:13:21.049651Z",
     "shell.execute_reply.started": "2022-05-23T12:13:16.460383Z"
    },
    "tags": []
   },
   "outputs": [
    {
     "name": "stdout",
     "output_type": "stream",
     "text": [
      "Debug -- Movielens Feature Generation Demo\n",
      "Debug -- load config:  {'app_name': 'MovieLens-1M Data', 'local': True, 'worker_count': 2, 'server_count': 2, 'batch_size': 1024, 'worker_memory': '7G', 'server_memory': '7G', 'coordinator_memory': '7G', 'movies_path': 's3://alphaide-demo/movielens/ml-1m/movies.dat', 'ratings_path': 's3://alphaide-demo/movielens/ml-1m/ratings.dat', 'users_path': 's3://alphaide-demo/movielens/ml-1m/users.dat'}\n"
     ]
    },
    {
     "name": "stderr",
     "output_type": "stream",
     "text": [
      "WARNING: An illegal reflective access operation has occurred\n",
      "WARNING: Illegal reflective access by org.apache.spark.unsafe.Platform (file:/usr/local/lib/python3.8/dist-packages/pyspark/jars/spark-unsafe_2.12-3.1.2.jar) to constructor java.nio.DirectByteBuffer(long,int)\n",
      "WARNING: Please consider reporting this to the maintainers of org.apache.spark.unsafe.Platform\n",
      "WARNING: Use --illegal-access=warn to enable warnings of further illegal reflective access operations\n",
      "WARNING: All illegal access operations will be denied in a future release\n",
      "22/05/23 20:13:17 WARN NativeCodeLoader: Unable to load native-hadoop library for your platform... using builtin-java classes where applicable\n",
      "Using Spark's default log4j profile: org/apache/spark/log4j-defaults.properties\n",
      "Setting default log level to \"WARN\".\n",
      "To adjust logging level use sc.setLogLevel(newLevel). For SparkR, use setLogLevel(newLevel).\n"
     ]
    },
    {
     "name": "stdout",
     "output_type": "stream",
     "text": [
      "Debug -- spark init\n",
      "Debug -- version: 3.1.2\n",
      "Debug -- applicaitonId: local-1653307998805\n",
      "Debug -- uiWebUrl: http://movielens-102-0:4040\n"
     ]
    }
   ],
   "source": [
    "print('Debug -- Movielens Feature Generation Demo')\n",
    "params = load_config('./1-data_exploration.yaml')\n",
    "locals().update(params)\n",
    "spark = init_spark()"
   ]
  },
  {
   "cell_type": "code",
   "execution_count": 7,
   "id": "d0c403c7-7c7c-40c7-b489-22f219346668",
   "metadata": {
    "execution": {
     "iopub.execute_input": "2022-05-23T12:13:21.052427Z",
     "iopub.status.busy": "2022-05-23T12:13:21.052095Z",
     "iopub.status.idle": "2022-05-23T12:13:25.037408Z",
     "shell.execute_reply": "2022-05-23T12:13:25.036610Z",
     "shell.execute_reply.started": "2022-05-23T12:13:21.052402Z"
    },
    "tags": []
   },
   "outputs": [
    {
     "name": "stdout",
     "output_type": "stream",
     "text": [
      "Debug -- movies sample:\n",
      "+--------+--------------------+--------------------+\n",
      "|movie_id|               title|               genre|\n",
      "+--------+--------------------+--------------------+\n",
      "|       1|    Toy Story (1995)|Animation|Childre...|\n",
      "|       2|      Jumanji (1995)|Adventure|Childre...|\n",
      "|       3|Grumpier Old Men ...|      Comedy|Romance|\n",
      "|       4|Waiting to Exhale...|        Comedy|Drama|\n",
      "|       5|Father of the Bri...|              Comedy|\n",
      "|       6|         Heat (1995)|Action|Crime|Thri...|\n",
      "|       7|      Sabrina (1995)|      Comedy|Romance|\n",
      "|       8| Tom and Huck (1995)|Adventure|Children's|\n",
      "|       9| Sudden Death (1995)|              Action|\n",
      "|      10|    GoldenEye (1995)|Action|Adventure|...|\n",
      "+--------+--------------------+--------------------+\n",
      "only showing top 10 rows\n",
      "\n",
      "Debug -- ratings sample:\n",
      "+-------+--------+------+---------+\n",
      "|user_id|movie_id|rating|timestamp|\n",
      "+-------+--------+------+---------+\n",
      "|      1|    1193|   5.0|978300760|\n",
      "|      1|     661|   3.0|978302109|\n",
      "|      1|     914|   3.0|978301968|\n",
      "|      1|    3408|   4.0|978300275|\n",
      "|      1|    2355|   5.0|978824291|\n",
      "|      1|    1197|   3.0|978302268|\n",
      "|      1|    1287|   5.0|978302039|\n",
      "|      1|    2804|   5.0|978300719|\n",
      "|      1|     594|   4.0|978302268|\n",
      "|      1|     919|   4.0|978301368|\n",
      "+-------+--------+------+---------+\n",
      "only showing top 10 rows\n",
      "\n",
      "Debug -- users sample:\n",
      "+-------+------+---+----------+-----+\n",
      "|user_id|gender|age|occupation|  zip|\n",
      "+-------+------+---+----------+-----+\n",
      "|      1|     F|  1|        10|48067|\n",
      "|      2|     M| 56|        16|70072|\n",
      "|      3|     M| 25|        15|55117|\n",
      "|      4|     M| 45|         7|02460|\n",
      "|      5|     M| 25|        20|55455|\n",
      "|      6|     F| 50|         9|55117|\n",
      "|      7|     M| 35|         1|06810|\n",
      "|      8|     M| 25|        12|11413|\n",
      "|      9|     M| 25|        17|61614|\n",
      "|     10|     F| 35|         1|95370|\n",
      "+-------+------+---+----------+-----+\n",
      "only showing top 10 rows\n",
      "\n",
      "Debug -- dataset sample:\n",
      "+-------+------+---+----------+-----+--------+--------------------+--------------------+------+---------+\n",
      "|user_id|gender|age|occupation|  zip|movie_id|               title|               genre|rating|timestamp|\n",
      "+-------+------+---+----------+-----+--------+--------------------+--------------------+------+---------+\n",
      "|      1|     F|  1|        10|48067|    1193|One Flew Over the...|               Drama|   5.0|978300760|\n",
      "|      1|     F|  1|        10|48067|     661|James and the Gia...|Animation|Childre...|   3.0|978302109|\n",
      "|      1|     F|  1|        10|48067|     914| My Fair Lady (1964)|     Musical|Romance|   3.0|978301968|\n",
      "|      1|     F|  1|        10|48067|    3408|Erin Brockovich (...|               Drama|   4.0|978300275|\n",
      "|      1|     F|  1|        10|48067|    2355|Bug's Life, A (1998)|Animation|Childre...|   5.0|978824291|\n",
      "|      1|     F|  1|        10|48067|    1197|Princess Bride, T...|Action|Adventure|...|   3.0|978302268|\n",
      "|      1|     F|  1|        10|48067|    1287|      Ben-Hur (1959)|Action|Adventure|...|   5.0|978302039|\n",
      "|      1|     F|  1|        10|48067|    2804|Christmas Story, ...|        Comedy|Drama|   5.0|978300719|\n",
      "|      1|     F|  1|        10|48067|     594|Snow White and th...|Animation|Childre...|   4.0|978302268|\n",
      "|      1|     F|  1|        10|48067|     919|Wizard of Oz, The...|Adventure|Childre...|   4.0|978301368|\n",
      "+-------+------+---+----------+-----+--------+--------------------+--------------------+------+---------+\n",
      "only showing top 10 rows\n",
      "\n"
     ]
    }
   ],
   "source": [
    "users, movies, ratings = read_dataset(**params)\n",
    "merged_dataset = merge_dataset(users, movies, ratings)"
   ]
  },
  {
   "cell_type": "markdown",
   "id": "8c9c2bb3-71e2-4388-84fa-9c556e51bbdd",
   "metadata": {
    "execution": {
     "iopub.execute_input": "2022-05-23T04:49:23.300315Z",
     "iopub.status.busy": "2022-05-23T04:49:23.299837Z",
     "iopub.status.idle": "2022-05-23T04:49:23.304431Z",
     "shell.execute_reply": "2022-05-23T04:49:23.303714Z",
     "shell.execute_reply.started": "2022-05-23T04:49:23.300281Z"
    }
   },
   "source": [
    "### 3.数据分析\n",
    "针对MovieLens 1M的数据，这个数据集中一共包含了6040个用户对3883部电影进行评价。我们在这里简要的做下数据分析：\n",
    "* 首先，使用饼图分析一下电影的评分的分布情况，即从1～5评分的百分比；\n",
    "* 其次，使用增强箱图分析一下不同类型电影的流行度分布，横轴是电影的类型，纵轴是评价电影的用户数量；\n",
    "* 最后，使用柱状图分析一下用户观看电影的数量分布。"
   ]
  },
  {
   "cell_type": "markdown",
   "id": "01a7ea22-2500-4647-b00e-2711518f5cf1",
   "metadata": {
    "execution": {
     "iopub.execute_input": "2022-05-23T08:31:00.780401Z",
     "iopub.status.busy": "2022-05-23T08:31:00.779872Z",
     "iopub.status.idle": "2022-05-23T08:31:00.782986Z",
     "shell.execute_reply": "2022-05-23T08:31:00.782530Z",
     "shell.execute_reply.started": "2022-05-23T08:31:00.780372Z"
    }
   },
   "source": [
    "#### 3.1 电影评分分布饼图绘制"
   ]
  },
  {
   "cell_type": "code",
   "execution_count": 8,
   "id": "f245692c-7f38-4fe2-a8d6-010a3800f463",
   "metadata": {
    "execution": {
     "iopub.execute_input": "2022-05-23T12:13:25.038954Z",
     "iopub.status.busy": "2022-05-23T12:13:25.038694Z",
     "iopub.status.idle": "2022-05-23T12:13:27.395525Z",
     "shell.execute_reply": "2022-05-23T12:13:27.394754Z",
     "shell.execute_reply.started": "2022-05-23T12:13:25.038924Z"
    },
    "tags": []
   },
   "outputs": [
    {
     "name": "stderr",
     "output_type": "stream",
     "text": [
      "[Stage 6:==============>                                            (1 + 3) / 4]\r"
     ]
    },
    {
     "name": "stdout",
     "output_type": "stream",
     "text": [
      "+------+------+\n",
      "|rating| count|\n",
      "+------+------+\n",
      "|   5.0|226310|\n",
      "|   4.0|348971|\n",
      "|   3.0|261197|\n",
      "|   2.0|107557|\n",
      "|   1.0| 56174|\n",
      "+------+------+\n",
      "\n"
     ]
    },
    {
     "name": "stderr",
     "output_type": "stream",
     "text": [
      "                                                                                \r"
     ]
    }
   ],
   "source": [
    "# 统计每个打分的人数\n",
    "star = ratings.groupby('rating').count().sort(F.desc(\"rating\"))\n",
    "star.show(20,True)"
   ]
  },
  {
   "cell_type": "code",
   "execution_count": 9,
   "id": "1103e5f2-1e36-4fdc-8ed8-184b8a991d94",
   "metadata": {
    "execution": {
     "iopub.execute_input": "2022-05-23T12:13:27.397118Z",
     "iopub.status.busy": "2022-05-23T12:13:27.396643Z",
     "iopub.status.idle": "2022-05-23T12:13:29.742456Z",
     "shell.execute_reply": "2022-05-23T12:13:29.741936Z",
     "shell.execute_reply.started": "2022-05-23T12:13:27.397092Z"
    },
    "tags": []
   },
   "outputs": [
    {
     "name": "stderr",
     "output_type": "stream",
     "text": [
      "                                                                                \r"
     ]
    },
    {
     "name": "stdout",
     "output_type": "stream",
     "text": [
      "   rating   count\n",
      "0     5.0  226310\n",
      "1     4.0  348971\n",
      "2     3.0  261197\n",
      "3     2.0  107557\n",
      "4     1.0   56174\n"
     ]
    }
   ],
   "source": [
    "# 转换成Pandas格式\n",
    "star_pd = star.toPandas()\n",
    "print(star_pd)"
   ]
  },
  {
   "cell_type": "code",
   "execution_count": 10,
   "id": "4e3c2d6b-3050-4190-984a-2ee924a44b46",
   "metadata": {
    "execution": {
     "iopub.execute_input": "2022-05-23T12:13:29.743510Z",
     "iopub.status.busy": "2022-05-23T12:13:29.743282Z",
     "iopub.status.idle": "2022-05-23T12:13:30.661020Z",
     "shell.execute_reply": "2022-05-23T12:13:30.660271Z",
     "shell.execute_reply.started": "2022-05-23T12:13:29.743491Z"
    },
    "tags": []
   },
   "outputs": [
    {
     "name": "stdout",
     "output_type": "stream",
     "text": [
      "['5.0 star(s)', '4.0 star(s)', '3.0 star(s)', '2.0 star(s)', '1.0 star(s)']\n",
      "[226310.0, 348971.0, 261197.0, 107557.0, 56174.0]\n"
     ]
    },
    {
     "data": {
      "image/png": "[encoded data removed]",
      "text/plain": [
       "<Figure size 1200x600 with 1 Axes>"
      ]
     },
     "metadata": {},
     "output_type": "display_data"
    }
   ],
   "source": [
    "# 将每个评分人数画成饼图\n",
    "star_score = []\n",
    "star_count = []\n",
    "def count_star(row):\n",
    "    star_score.append(str(row['rating'])+ \" star(s)\")\n",
    "    star_count.append(row['count'])\n",
    "star_pd.apply(count_star, axis=1)\n",
    "print(star_score)\n",
    "print(star_count)\n",
    "\n",
    "import matplotlib.pyplot as plt\n",
    "plt.figure(figsize=(12, 6), dpi=100)\n",
    "plt.pie(star_count,labels=star_score,autopct='%1.1f%%', shadow=False,startangle=150)\n",
    "plt.savefig('user_rating_pie.png', dpi=100)"
   ]
  },
  {
   "cell_type": "markdown",
   "id": "02e4a8cd-7eea-4a52-a9d7-5292382adcc9",
   "metadata": {},
   "source": [
    "#### 3.2 电影流行度增强箱图绘制"
   ]
  },
  {
   "cell_type": "code",
   "execution_count": 11,
   "id": "e1dcad41-77d2-4326-9a9a-a0b56091e345",
   "metadata": {
    "execution": {
     "iopub.execute_input": "2022-05-23T12:13:30.662644Z",
     "iopub.status.busy": "2022-05-23T12:13:30.662261Z",
     "iopub.status.idle": "2022-05-23T12:13:36.192812Z",
     "shell.execute_reply": "2022-05-23T12:13:36.192037Z",
     "shell.execute_reply.started": "2022-05-23T12:13:30.662605Z"
    },
    "tags": []
   },
   "outputs": [
    {
     "name": "stderr",
     "output_type": "stream",
     "text": [
      "[Stage 16:==============================================>       (174 + 4) / 200]\r"
     ]
    },
    {
     "name": "stdout",
     "output_type": "stream",
     "text": [
      "+--------+------------+------------+\n",
      "|movie_id|single_genre|rating_users|\n",
      "+--------+------------+------------+\n",
      "|    1035|     Musical|         882|\n",
      "|    2144|      Comedy|         719|\n",
      "|    2005|   Adventure|         716|\n",
      "|    3554|     Romance|         119|\n",
      "|    3702|      Action|        1066|\n",
      "|     562|       Drama|         478|\n",
      "|    1025|   Animation|         293|\n",
      "|    3364|   Film-Noir|         151|\n",
      "|    1222|         War|        1254|\n",
      "|    1135|      Comedy|         407|\n",
      "|    3326|      Comedy|         180|\n",
      "|     748|      Sci-Fi|         417|\n",
      "|    3741|       Drama|         241|\n",
      "|     471|      Comedy|         599|\n",
      "|    3784|      Comedy|         165|\n",
      "|    1649| Documentary|         189|\n",
      "|    2970|   Adventure|          98|\n",
      "|    1468|      Comedy|         144|\n",
      "|    1050| Documentary|         146|\n",
      "|    2377|      Horror|         183|\n",
      "+--------+------------+------------+\n",
      "only showing top 20 rows\n",
      "\n"
     ]
    },
    {
     "name": "stderr",
     "output_type": "stream",
     "text": [
      "                                                                                \r"
     ]
    }
   ],
   "source": [
    "# 统计不同类型电影惯看的用户数量\n",
    "merged_dataset.registerTempTable(\"merged_dataset\")\n",
    "query=\"\"\"\n",
    "select \n",
    "    movie_id, \n",
    "    single_genre, \n",
    "    count(distinct user_id) as rating_users\n",
    "from \n",
    "(\n",
    "    select \n",
    "        user_id,\n",
    "        movie_id, \n",
    "        single_genre\n",
    "    from \n",
    "        merged_dataset\n",
    "    lateral view explode(split(genre,'\\\\\\\\|')) genres AS single_genre \n",
    ")\n",
    "group by \n",
    "    movie_id, single_genre\n",
    "\"\"\"\n",
    "genre_stat = spark.sql(query)\n",
    "genre_stat.show(20, True)"
   ]
  },
  {
   "cell_type": "code",
   "execution_count": 12,
   "id": "55903344-a2bc-456d-b2eb-b18e153f39dd",
   "metadata": {
    "execution": {
     "iopub.execute_input": "2022-05-23T12:13:36.194287Z",
     "iopub.status.busy": "2022-05-23T12:13:36.193985Z",
     "iopub.status.idle": "2022-05-23T12:13:39.068579Z",
     "shell.execute_reply": "2022-05-23T12:13:39.067980Z",
     "shell.execute_reply.started": "2022-05-23T12:13:36.194261Z"
    }
   },
   "outputs": [
    {
     "name": "stdout",
     "output_type": "stream",
     "text": [
      "Defaulting to user installation because normal site-packages is not writeable\n",
      "Looking in indexes: https://mirrors.aliyun.com/pypi/simple/\n",
      "Collecting seaborn\n",
      "  Downloading https://mirrors.aliyun.com/pypi/packages/10/5b/0479d7d845b5ba410ca702ffcd7f2cd95a14a4dfff1fde2637802b258b9b/seaborn-0.11.2-py3-none-any.whl (292 kB)\n",
      "\u001b[2K     \u001b[90m━━━━━━━━━━━━━━━━━━━━━━━━━━━━━━━━━━━━━━━\u001b[0m \u001b[32m292.8/292.8 KB\u001b[0m \u001b[31m8.0 MB/s\u001b[0m eta \u001b[36m0:00:00\u001b[0m00:01\u001b[0m\n",
      "\u001b[?25hRequirement already satisfied: pandas>=0.23 in /usr/local/lib/python3.8/dist-packages (from seaborn) (1.4.2)\n",
      "Requirement already satisfied: matplotlib>=2.2 in /home/jovyan/.local/lib/python3.8/site-packages (from seaborn) (3.5.2)\n",
      "Requirement already satisfied: numpy>=1.15 in /usr/local/lib/python3.8/dist-packages (from seaborn) (1.22.3)\n",
      "Requirement already satisfied: scipy>=1.0 in /usr/local/lib/python3.8/dist-packages (from seaborn) (1.8.0)\n",
      "Requirement already satisfied: cycler>=0.10 in /home/jovyan/.local/lib/python3.8/site-packages (from matplotlib>=2.2->seaborn) (0.11.0)\n",
      "Requirement already satisfied: fonttools>=4.22.0 in /home/jovyan/.local/lib/python3.8/site-packages (from matplotlib>=2.2->seaborn) (4.33.3)\n",
      "Requirement already satisfied: python-dateutil>=2.7 in /usr/local/lib/python3.8/dist-packages (from matplotlib>=2.2->seaborn) (2.8.2)\n",
      "Requirement already satisfied: pillow>=6.2.0 in /usr/local/lib/python3.8/dist-packages (from matplotlib>=2.2->seaborn) (9.1.0)\n",
      "Requirement already satisfied: pyparsing>=2.2.1 in /home/jovyan/.local/lib/python3.8/site-packages (from matplotlib>=2.2->seaborn) (3.0.8)\n",
      "Requirement already satisfied: kiwisolver>=1.0.1 in /home/jovyan/.local/lib/python3.8/site-packages (from matplotlib>=2.2->seaborn) (1.4.2)\n",
      "Requirement already satisfied: packaging>=20.0 in /home/jovyan/.local/lib/python3.8/site-packages (from matplotlib>=2.2->seaborn) (21.3)\n",
      "Requirement already satisfied: pytz>=2020.1 in /usr/local/lib/python3.8/dist-packages (from pandas>=0.23->seaborn) (2022.1)\n",
      "Requirement already satisfied: six>=1.5 in /usr/local/lib/python3.8/dist-packages (from python-dateutil>=2.7->matplotlib>=2.2->seaborn) (1.16.0)\n",
      "Installing collected packages: seaborn\n",
      "Successfully installed seaborn-0.11.2\n"
     ]
    }
   ],
   "source": [
    "!pip install seaborn"
   ]
  },
  {
   "cell_type": "code",
   "execution_count": 13,
   "id": "af32d9f9-a06c-4864-8865-f821e292fb4b",
   "metadata": {
    "execution": {
     "iopub.execute_input": "2022-05-23T12:13:39.069757Z",
     "iopub.status.busy": "2022-05-23T12:13:39.069574Z",
     "iopub.status.idle": "2022-05-23T12:13:45.494501Z",
     "shell.execute_reply": "2022-05-23T12:13:45.493951Z",
     "shell.execute_reply.started": "2022-05-23T12:13:39.069736Z"
    },
    "tags": []
   },
   "outputs": [
    {
     "name": "stderr",
     "output_type": "stream",
     "text": [
      "                                                                                \r"
     ]
    },
    {
     "data": {
      "text/plain": [
       "Text(0, 0.5, 'Users')"
      ]
     },
     "execution_count": 13,
     "metadata": {},
     "output_type": "execute_result"
    },
    {
     "data": {
      "image/png": "[encoded data removed]",
      "text/plain": [
       "<Figure size 1200x600 with 1 Axes>"
      ]
     },
     "metadata": {
      "needs_background": "light"
     },
     "output_type": "display_data"
    }
   ],
   "source": [
    "# 将流行度分布使用增强箱图进行表示，横轴是电影的类型，纵轴是评价电影的用户数量\n",
    "import pandas as pd\n",
    "import seaborn as sns\n",
    "import matplotlib.pyplot as plt\n",
    "\n",
    "genre_stat_pandas = genre_stat.toPandas()\n",
    "plt.figure(figsize=(12, 6), dpi=100)\n",
    "sns.boxenplot(x='single_genre', y='rating_users', data =genre_stat_pandas)\n",
    "plt.yscale('log')\n",
    "plt.yticks(fontsize=10)\n",
    "plt.xticks(rotation=55, fontsize=10)\n",
    "plt.xlabel('Genre', fontsize=12)\n",
    "plt.ylabel('Users',fontsize=12)"
   ]
  },
  {
   "cell_type": "markdown",
   "id": "e71d6d04-6c4b-47f8-b008-d4e9a6121027",
   "metadata": {},
   "source": [
    "#### 3.3 用户观看电影的数量柱状图绘制"
   ]
  },
  {
   "cell_type": "code",
   "execution_count": 14,
   "id": "57ef4e6a-c928-493c-9fce-7f15a6afd033",
   "metadata": {
    "execution": {
     "iopub.execute_input": "2022-05-23T12:13:45.495763Z",
     "iopub.status.busy": "2022-05-23T12:13:45.495372Z",
     "iopub.status.idle": "2022-05-23T12:13:48.292408Z",
     "shell.execute_reply": "2022-05-23T12:13:48.291579Z",
     "shell.execute_reply.started": "2022-05-23T12:13:45.495738Z"
    },
    "tags": []
   },
   "outputs": [
    {
     "name": "stderr",
     "output_type": "stream",
     "text": [
      "[Stage 24:=========================================>            (155 + 4) / 200]\r"
     ]
    },
    {
     "name": "stdout",
     "output_type": "stream",
     "text": [
      "+-------+-----------+\n",
      "|user_id|movie_count|\n",
      "+-------+-----------+\n",
      "|    474|        318|\n",
      "|    964|         78|\n",
      "|   1697|        354|\n",
      "|   1950|        137|\n",
      "|   2214|         81|\n",
      "|   2250|         67|\n",
      "|   2453|        629|\n",
      "|   2529|        812|\n",
      "|   3091|         64|\n",
      "|   5556|        278|\n",
      "|     26|        400|\n",
      "|     29|        108|\n",
      "|   1677|         43|\n",
      "|   5385|         46|\n",
      "|   1806|        214|\n",
      "|   2927|         62|\n",
      "|   4823|        470|\n",
      "|   4590|         50|\n",
      "|   3506|         68|\n",
      "|   2040|         46|\n",
      "+-------+-----------+\n",
      "only showing top 20 rows\n",
      "\n"
     ]
    },
    {
     "name": "stderr",
     "output_type": "stream",
     "text": [
      "                                                                                \r"
     ]
    }
   ],
   "source": [
    "# 统计每位用户给多少电影打分\n",
    "watch = ratings.groupby('user_id').agg(F.countDistinct('movie_id').alias('movie_count'))\n",
    "watch.show(20,True)"
   ]
  },
  {
   "cell_type": "code",
   "execution_count": 15,
   "id": "63097968-1729-4256-9079-2a116dad6e31",
   "metadata": {
    "execution": {
     "iopub.execute_input": "2022-05-23T12:13:48.293739Z",
     "iopub.status.busy": "2022-05-23T12:13:48.293289Z",
     "iopub.status.idle": "2022-05-23T12:13:51.240208Z",
     "shell.execute_reply": "2022-05-23T12:13:51.239625Z",
     "shell.execute_reply.started": "2022-05-23T12:13:48.293697Z"
    },
    "tags": []
   },
   "outputs": [
    {
     "name": "stderr",
     "output_type": "stream",
     "text": [
      "[Stage 27:============================================>         (164 + 4) / 200]\r"
     ]
    },
    {
     "name": "stdout",
     "output_type": "stream",
     "text": [
      "+-------+-----------+---------+\n",
      "|user_id|movie_count|count_bin|\n",
      "+-------+-----------+---------+\n",
      "|    474|        318|        3|\n",
      "|    964|         78|        0|\n",
      "|   1697|        354|        3|\n",
      "|   1950|        137|        1|\n",
      "|   2214|         81|        0|\n",
      "|   2250|         67|        0|\n",
      "|   2453|        629|        6|\n",
      "|   2529|        812|        8|\n",
      "|   3091|         64|        0|\n",
      "|   5556|        278|        2|\n",
      "|     26|        400|        4|\n",
      "|     29|        108|        1|\n",
      "|   1677|         43|        0|\n",
      "|   5385|         46|        0|\n",
      "|   1806|        214|        2|\n",
      "|   2927|         62|        0|\n",
      "|   4823|        470|        4|\n",
      "|   4590|         50|        0|\n",
      "|   3506|         68|        0|\n",
      "|   2040|         46|        0|\n",
      "+-------+-----------+---------+\n",
      "only showing top 20 rows\n",
      "\n"
     ]
    },
    {
     "name": "stderr",
     "output_type": "stream",
     "text": [
      "                                                                                \r"
     ]
    }
   ],
   "source": [
    "# 新加的count_bin是观看电影数量所在的区间\n",
    "watch = watch.withColumn(\"count_bin\",(watch['movie_count']/100).cast('int'))\n",
    "watch.show(20,True)"
   ]
  },
  {
   "cell_type": "code",
   "execution_count": 16,
   "id": "d884f6ea-6217-432d-8d3c-92a09fb9f8ff",
   "metadata": {
    "execution": {
     "iopub.execute_input": "2022-05-23T12:13:51.241195Z",
     "iopub.status.busy": "2022-05-23T12:13:51.241012Z",
     "iopub.status.idle": "2022-05-23T12:13:55.397918Z",
     "shell.execute_reply": "2022-05-23T12:13:55.397088Z",
     "shell.execute_reply.started": "2022-05-23T12:13:51.241175Z"
    },
    "tags": []
   },
   "outputs": [
    {
     "name": "stderr",
     "output_type": "stream",
     "text": [
      "[Stage 31:==============================================>       (174 + 4) / 200]\r"
     ]
    },
    {
     "name": "stdout",
     "output_type": "stream",
     "text": [
      "+---------+----------+\n",
      "|count_bin|user_count|\n",
      "+---------+----------+\n",
      "|        0|      3095|\n",
      "|        1|      1356|\n",
      "|        2|       624|\n",
      "|        3|       360|\n",
      "|        4|       206|\n",
      "|        5|       140|\n",
      "|        6|        82|\n",
      "|        7|        65|\n",
      "|        8|        49|\n",
      "|        9|        22|\n",
      "|       10|        13|\n",
      "|       11|         6|\n",
      "|       12|        13|\n",
      "|       13|         3|\n",
      "|       15|         3|\n",
      "|       17|         1|\n",
      "|       18|         1|\n",
      "|       23|         1|\n",
      "+---------+----------+\n",
      "\n"
     ]
    },
    {
     "name": "stderr",
     "output_type": "stream",
     "text": [
      "                                                                                \r"
     ]
    }
   ],
   "source": [
    "# 观看电影数量区间对应的人数\n",
    "watch_count = watch.groupby('count_bin').agg(F.countDistinct('user_id')\\\n",
    "                                        .alias('user_count'))\\\n",
    "                                        .sort(F.asc(\"count_bin\"))\n",
    "watch_count.show(20,True)"
   ]
  },
  {
   "cell_type": "code",
   "execution_count": 17,
   "id": "15a55693-41ee-4678-99a5-29afbeaefde2",
   "metadata": {
    "execution": {
     "iopub.execute_input": "2022-05-23T12:13:55.399488Z",
     "iopub.status.busy": "2022-05-23T12:13:55.399074Z",
     "iopub.status.idle": "2022-05-23T12:14:03.809924Z",
     "shell.execute_reply": "2022-05-23T12:14:03.809431Z",
     "shell.execute_reply.started": "2022-05-23T12:13:55.399457Z"
    },
    "tags": []
   },
   "outputs": [
    {
     "name": "stderr",
     "output_type": "stream",
     "text": [
      "                                                                                \r"
     ]
    },
    {
     "name": "stdout",
     "output_type": "stream",
     "text": [
      "[0, 1, 2, 3, 4, 5, 6, 7, 8, 9, 10, 11, 12, 13, 15, 17, 18, 23]\n"
     ]
    },
    {
     "name": "stderr",
     "output_type": "stream",
     "text": [
      "                                                                                \r"
     ]
    },
    {
     "name": "stdout",
     "output_type": "stream",
     "text": [
      "[3095, 1356, 624, 360, 206, 140, 82, 65, 49, 22, 13, 6, 13, 3, 3, 1, 1, 1]\n",
      "['0-100', '100-200', '200-300', '300-400', '400-500', '500-600', '600-700', '700-800', '800-900', '900-1000', '1000-1100', '1100-1200', '1200-1300', '1300-1400', '1500-1600', '1700-1800', '1800-1900', '2300-2400']\n"
     ]
    }
   ],
   "source": [
    "# 观影数量区间\n",
    "count_bin = [x['count_bin'] for x in watch_count.select('count_bin').collect()]\n",
    "print(count_bin)\n",
    "# 区间对应人数\n",
    "count_bin_user_num=[x['user_count'] for x in watch_count.select('user_count').collect()]\n",
    "print(count_bin_user_num)\n",
    "# 区间对应的label\n",
    "x_label = [\"%s-%s\"%(100*x, 100*x + 100)for x in count_bin]\n",
    "print(x_label)"
   ]
  },
  {
   "cell_type": "code",
   "execution_count": 18,
   "id": "1cd3acc0-e90b-4c8d-aa0f-d700348cf0f4",
   "metadata": {
    "execution": {
     "iopub.execute_input": "2022-05-23T12:14:03.811141Z",
     "iopub.status.busy": "2022-05-23T12:14:03.810774Z",
     "iopub.status.idle": "2022-05-23T12:14:04.077504Z",
     "shell.execute_reply": "2022-05-23T12:14:04.077026Z",
     "shell.execute_reply.started": "2022-05-23T12:14:03.811121Z"
    },
    "tags": []
   },
   "outputs": [
    {
     "name": "stderr",
     "output_type": "stream",
     "text": [
      "/home/jovyan/.local/lib/python3.8/site-packages/seaborn/_decorators.py:36: FutureWarning: Pass the following variables as keyword args: x, y. From version 0.12, the only valid positional argument will be `data`, and passing other arguments without an explicit keyword will result in an error or misinterpretation.\n",
      "  warnings.warn(\n"
     ]
    },
    {
     "data": {
      "image/png": "[encoded data removed]",
      "text/plain": [
       "<Figure size 1200x600 with 1 Axes>"
      ]
     },
     "metadata": {},
     "output_type": "display_data"
    },
    {
     "data": {
      "text/plain": [
       "<Figure size 432x288 with 0 Axes>"
      ]
     },
     "metadata": {},
     "output_type": "display_data"
    }
   ],
   "source": [
    "# 柱状图\n",
    "import seaborn as sns\n",
    "sns.set(style=\"whitegrid\")\n",
    "plt.figure(figsize=(12, 6), dpi=100)\n",
    "ax = sns.barplot(count_bin, count_bin_user_num)\n",
    "plt.xlabel('Number of Movies Rated')\n",
    "plt.ylabel('Number of Users')\n",
    "ax.set_xticklabels(x_label, rotation=55)\n",
    "plt.show()\n",
    "plt.savefig('user_watch_count_bin.png', dpi=100)"
   ]
  },
  {
   "cell_type": "code",
   "execution_count": 19,
   "id": "8ee04489-c8c3-41ae-bebb-8d38f77f44af",
   "metadata": {
    "execution": {
     "iopub.execute_input": "2022-05-23T12:14:04.078364Z",
     "iopub.status.busy": "2022-05-23T12:14:04.078221Z",
     "iopub.status.idle": "2022-05-23T12:14:05.409788Z",
     "shell.execute_reply": "2022-05-23T12:14:05.409276Z",
     "shell.execute_reply.started": "2022-05-23T12:14:04.078348Z"
    }
   },
   "outputs": [],
   "source": [
    "spark.stop()"
   ]
  },
  {
   "cell_type": "code",
   "execution_count": null,
   "id": "e581ed17-0d4b-4774-b447-e0da40166aa6",
   "metadata": {},
   "outputs": [],
   "source": []
  }
 ],
 "metadata": {
  "kernelspec": {
   "display_name": "Python 3 (ipykernel)",
   "language": "python",
   "name": "python3"
  },
  "language_info": {
   "codemirror_mode": {
    "name": "ipython",
    "version": 3
   },
   "file_extension": ".py",
   "mimetype": "text/x-python",
   "name": "python",
   "nbconvert_exporter": "python",
   "pygments_lexer": "ipython3",
   "version": "3.8.10"
  }
 },
 "nbformat": 4,
 "nbformat_minor": 5
}
