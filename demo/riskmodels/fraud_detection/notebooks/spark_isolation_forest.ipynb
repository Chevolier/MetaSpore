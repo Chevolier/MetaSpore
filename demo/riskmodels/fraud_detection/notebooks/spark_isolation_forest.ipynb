{
 "cells": [
  {
   "cell_type": "markdown",
   "id": "6aec3f0b-6505-4e18-bb37-fab4a0397d1e",
   "metadata": {},
   "source": [
    "# Fraud Detection using Isolation Forest\n",
    "### Introduction\n",
    "We use the dataset of [ULB Creditcard Dataset](https://www.kaggle.com/datasets/mlg-ulb/creditcardfraud) to train our frauld detection model. In this notebook, we will use [Isolation Forest](https://mmlspark.blob.core.windows.net/docs/0.9.1/pyspark/synapse.ml.isolationforest.html) algorithm, which refers to some execellent work listed as below:\n",
    "\n",
    "* **Fraud detection handbook**: https://fraud-detection-handbook.github.io/fraud-detection-handbook/Foreword.html\n",
    "* **AWS creditcard fraud detector**: https://github.com/awslabs/fraud-detection-using-machine-learning/blob/master/source/notebooks/sagemaker_fraud_detection.ipynb\n",
    "* **Anomaly Detection using different methods**: https://www.kaggle.com/code/adepvenugopal/anomaly-detection-using-different-methods\n",
    "\n",
    "In a fraud detection scenario, we may have very few labeled examples, and it's possible that labeling fraud takes a very long time. Isolation Forest, as an unsupervised learning algorithm, is very scalable and can help us to identify the fraud data only based on features if there is little labled data."
   ]
  },
  {
   "cell_type": "code",
   "execution_count": 1,
   "id": "82357282-0b14-4823-8685-f8199dba49e0",
   "metadata": {},
   "outputs": [],
   "source": [
    "import pyspark\n",
    "import yaml\n",
    "import argparse\n",
    "import onnxmltools\n",
    "import subprocess\n",
    "import numpy as np\n",
    "import pandas as pd\n",
    "import warnings\n",
    "\n",
    "from pyspark.sql import functions as F\n",
    "from pyspark.sql.types import FloatType, DoubleType\n",
    "from pyspark.ml.feature import VectorAssembler\n",
    "from pyspark.ml.evaluation import BinaryClassificationEvaluator\n",
    "from pyspark.mllib.evaluation import MulticlassMetrics\n",
    "\n",
    "\n",
    "warnings.filterwarnings('ignore')\n",
    "pd.set_option('display.max_rows', None)\n",
    "pd.set_option('display.max_columns', None)"
   ]
  },
  {
   "cell_type": "code",
   "execution_count": 2,
   "id": "17373c1c-92eb-49c2-b1b1-2c25800a7892",
   "metadata": {},
   "outputs": [],
   "source": [
    "def init_spark():\n",
    "    spark = pyspark.sql.SparkSession.builder\\\n",
    "            .appName(\"Fraud Detection-LightGBM\") \\\n",
    "            .config(\"spark.executor.memory\",\"8G\") \\\n",
    "            .config(\"spark.executor.instances\",\"4\") \\\n",
    "            .config(\"spark.executor.cores\", \"4\") \\\n",
    "            .config(\"spark.jars.packages\", \"com.microsoft.azure:synapseml_2.12:0.9.4\") \\\n",
    "            .config(\"spark.jars.repositories\", \"https://mmlspark.azureedge.net/maven\") \\\n",
    "            .getOrCreate()\n",
    "    sc = spark.sparkContext\n",
    "    print(sc.version)\n",
    "    print(sc.applicationId)\n",
    "    print(sc.uiWebUrl)\n",
    "    return spark\n",
    "\n",
    "def load_config(path):\n",
    "    params = dict()\n",
    "    with open(path, 'r') as stream:\n",
    "        params = yaml.load(stream, Loader=yaml.FullLoader)\n",
    "    return params\n",
    "\n",
    "def read_dataset(spark, data_path):\n",
    "    dataset = spark.read.format(\"csv\")\\\n",
    "      .option(\"header\",  True)\\\n",
    "      .option(\"inferSchema\",  True)\\\n",
    "      .load(data_path)  \n",
    "    return dataset\n",
    "\n",
    "def get_vectorassembler(dataset, features='features', label='label'):\n",
    "    featurizer = VectorAssembler(\n",
    "        inputCols = feature_cols,\n",
    "        outputCol = 'features',\n",
    "        handleInvalid = 'skip'\n",
    "    )\n",
    "    dataset = featurizer.transform(dataset)[label, features]\n",
    "    return dataset"
   ]
  },
  {
   "cell_type": "code",
   "execution_count": 3,
   "id": "fed5f2ce-f049-4a0b-bd04-51a273f90dc2",
   "metadata": {},
   "outputs": [
    {
     "name": "stdout",
     "output_type": "stream",
     "text": [
      "                           PRE eval_test_dataset.parquet/\n",
      "                           PRE model/\n",
      "2022-07-20 06:08:35  150828752 creditcard.csv\n",
      "2022-07-21 07:45:38    9368900 creditcard_test.csv\n",
      "2022-07-21 07:45:35   84318327 creditcard_train.csv\n",
      "2022-07-21 07:45:40   92424439 creditcard_train_smote.csv\n"
     ]
    }
   ],
   "source": [
    "!aws s3 ls s3://dmetasoul-bucket/demo/risk/ulb/"
   ]
  },
  {
   "cell_type": "code",
   "execution_count": 4,
   "id": "2acc7fa5-dad2-4449-9768-b328f7178915",
   "metadata": {},
   "outputs": [
    {
     "name": "stderr",
     "output_type": "stream",
     "text": [
      "WARNING: An illegal reflective access operation has occurred\n",
      "WARNING: Illegal reflective access by org.apache.spark.unsafe.Platform (file:/opt/spark/jars/spark-unsafe_2.12-3.1.2.jar) to constructor java.nio.DirectByteBuffer(long,int)\n",
      "WARNING: Please consider reporting this to the maintainers of org.apache.spark.unsafe.Platform\n",
      "WARNING: Use --illegal-access=warn to enable warnings of further illegal reflective access operations\n",
      "WARNING: All illegal access operations will be denied in a future release\n",
      "https://mmlspark.azureedge.net/maven added as a remote repository with the name: repo-1\n",
      "Ivy Default Cache set to: /home/spark/.ivy2/cache\n",
      "The jars for the packages stored in: /home/spark/.ivy2/jars\n",
      "com.microsoft.azure#synapseml_2.12 added as a dependency\n",
      ":: resolving dependencies :: org.apache.spark#spark-submit-parent-8d54be4f-9427-47fb-ab2f-e5ab1ebbbc9d;1.0\n",
      "\tconfs: [default]\n"
     ]
    },
    {
     "name": "stdout",
     "output_type": "stream",
     "text": [
      ":: loading settings :: url = jar:file:/opt/spark/jars/ivy-2.4.0.jar!/org/apache/ivy/core/settings/ivysettings.xml\n"
     ]
    },
    {
     "name": "stderr",
     "output_type": "stream",
     "text": [
      "\tfound com.microsoft.azure#synapseml_2.12;0.9.4 in repo-1\n",
      "\tfound com.microsoft.azure#synapseml-core_2.12;0.9.4 in repo-1\n",
      "\tfound org.scalactic#scalactic_2.12;3.0.5 in central\n",
      "\tfound org.scala-lang#scala-reflect;2.12.4 in central\n",
      "\tfound io.spray#spray-json_2.12;1.3.2 in central\n",
      "\tfound com.jcraft#jsch;0.1.54 in central\n",
      "\tfound org.apache.httpcomponents#httpclient;4.5.6 in central\n",
      "\tfound org.apache.httpcomponents#httpcore;4.4.10 in central\n",
      "\tfound commons-logging#commons-logging;1.2 in central\n",
      "\tfound commons-codec#commons-codec;1.10 in central\n",
      "\tfound org.apache.httpcomponents#httpmime;4.5.6 in central\n",
      "\tfound com.linkedin.isolation-forest#isolation-forest_3.0.0_2.12;1.0.1 in central\n",
      "\tfound com.chuusai#shapeless_2.12;2.3.2 in central\n",
      "\tfound org.typelevel#macro-compat_2.12;1.1.1 in central\n",
      "\tfound org.apache.spark#spark-avro_2.12;3.0.0 in central\n",
      "\tfound org.spark-project.spark#unused;1.0.0 in central\n",
      "\tfound org.testng#testng;6.8.8 in central\n",
      "\tfound org.beanshell#bsh;2.0b4 in central\n",
      "\tfound com.beust#jcommander;1.27 in central\n",
      "\tfound com.microsoft.azure#synapseml-deep-learning_2.12;0.9.4 in repo-1\n",
      "\tfound com.microsoft.azure#synapseml-opencv_2.12;0.9.4 in repo-1\n",
      "\tfound org.openpnp#opencv;3.2.0-1 in central\n",
      "\tfound com.microsoft.cntk#cntk;2.4 in central\n",
      "\tfound com.microsoft.onnxruntime#onnxruntime_gpu;1.8.1 in central\n",
      "\tfound com.microsoft.azure#synapseml-cognitive_2.12;0.9.4 in repo-1\n",
      "\tfound com.microsoft.cognitiveservices.speech#client-sdk;1.14.0 in repo-1\n",
      "\tfound com.microsoft.azure#synapseml-vw_2.12;0.9.4 in repo-1\n",
      "\tfound com.github.vowpalwabbit#vw-jni;8.9.1 in central\n",
      "\tfound com.microsoft.azure#synapseml-lightgbm_2.12;0.9.4 in repo-1\n",
      "\tfound com.microsoft.ml.lightgbm#lightgbmlib;3.2.110 in central\n",
      ":: resolution report :: resolve 424ms :: artifacts dl 11ms\n",
      "\t:: modules in use:\n",
      "\tcom.beust#jcommander;1.27 from central in [default]\n",
      "\tcom.chuusai#shapeless_2.12;2.3.2 from central in [default]\n",
      "\tcom.github.vowpalwabbit#vw-jni;8.9.1 from central in [default]\n",
      "\tcom.jcraft#jsch;0.1.54 from central in [default]\n",
      "\tcom.linkedin.isolation-forest#isolation-forest_3.0.0_2.12;1.0.1 from central in [default]\n",
      "\tcom.microsoft.azure#synapseml-cognitive_2.12;0.9.4 from repo-1 in [default]\n",
      "\tcom.microsoft.azure#synapseml-core_2.12;0.9.4 from repo-1 in [default]\n",
      "\tcom.microsoft.azure#synapseml-deep-learning_2.12;0.9.4 from repo-1 in [default]\n",
      "\tcom.microsoft.azure#synapseml-lightgbm_2.12;0.9.4 from repo-1 in [default]\n",
      "\tcom.microsoft.azure#synapseml-opencv_2.12;0.9.4 from repo-1 in [default]\n",
      "\tcom.microsoft.azure#synapseml-vw_2.12;0.9.4 from repo-1 in [default]\n",
      "\tcom.microsoft.azure#synapseml_2.12;0.9.4 from repo-1 in [default]\n",
      "\tcom.microsoft.cntk#cntk;2.4 from central in [default]\n",
      "\tcom.microsoft.cognitiveservices.speech#client-sdk;1.14.0 from repo-1 in [default]\n",
      "\tcom.microsoft.ml.lightgbm#lightgbmlib;3.2.110 from central in [default]\n",
      "\tcom.microsoft.onnxruntime#onnxruntime_gpu;1.8.1 from central in [default]\n",
      "\tcommons-codec#commons-codec;1.10 from central in [default]\n",
      "\tcommons-logging#commons-logging;1.2 from central in [default]\n",
      "\tio.spray#spray-json_2.12;1.3.2 from central in [default]\n",
      "\torg.apache.httpcomponents#httpclient;4.5.6 from central in [default]\n",
      "\torg.apache.httpcomponents#httpcore;4.4.10 from central in [default]\n",
      "\torg.apache.httpcomponents#httpmime;4.5.6 from central in [default]\n",
      "\torg.apache.spark#spark-avro_2.12;3.0.0 from central in [default]\n",
      "\torg.beanshell#bsh;2.0b4 from central in [default]\n",
      "\torg.openpnp#opencv;3.2.0-1 from central in [default]\n",
      "\torg.scala-lang#scala-reflect;2.12.4 from central in [default]\n",
      "\torg.scalactic#scalactic_2.12;3.0.5 from central in [default]\n",
      "\torg.spark-project.spark#unused;1.0.0 from central in [default]\n",
      "\torg.testng#testng;6.8.8 from central in [default]\n",
      "\torg.typelevel#macro-compat_2.12;1.1.1 from central in [default]\n",
      "\t---------------------------------------------------------------------\n",
      "\t|                  |            modules            ||   artifacts   |\n",
      "\t|       conf       | number| search|dwnlded|evicted|| number|dwnlded|\n",
      "\t---------------------------------------------------------------------\n",
      "\t|      default     |   30  |   0   |   0   |   0   ||   30  |   0   |\n",
      "\t---------------------------------------------------------------------\n",
      ":: retrieving :: org.apache.spark#spark-submit-parent-8d54be4f-9427-47fb-ab2f-e5ab1ebbbc9d\n",
      "\tconfs: [default]\n",
      "\t0 artifacts copied, 30 already retrieved (0kB/10ms)\n",
      "22/07/22 10:20:47 WARN NativeCodeLoader: Unable to load native-hadoop library for your platform... using builtin-java classes where applicable\n",
      "Using Spark's default log4j profile: org/apache/spark/log4j-defaults.properties\n",
      "Setting default log level to \"WARN\".\n",
      "To adjust logging level use sc.setLogLevel(newLevel). For SparkR, use setLogLevel(newLevel).\n"
     ]
    },
    {
     "name": "stdout",
     "output_type": "stream",
     "text": [
      "3.1.2\n",
      "spark-application-1658485249752\n",
      "http://10.0.50.41:4040\n"
     ]
    }
   ],
   "source": [
    "spark = init_spark()"
   ]
  },
  {
   "cell_type": "markdown",
   "id": "5f2d61ca-d3c6-42c3-a179-936da0623289",
   "metadata": {},
   "source": [
    "### Train detection model using Isolation Forest\n",
    "\n",
    "Here we are using [Isolation Forest](https://mmlspark.blob.core.windows.net/docs/0.9.1/pyspark/synapse.ml.isolationforest.html) to train our fraud detection model. Moreover, we will test the model performance by using multiple metrics, such as AUC, KS, Balanced accuracy, Cohen's kappa and Confusion Matrix."
   ]
  },
  {
   "cell_type": "code",
   "execution_count": 5,
   "id": "a100fa29-7072-4a8d-a03e-a1646176484f",
   "metadata": {},
   "outputs": [
    {
     "name": "stderr",
     "output_type": "stream",
     "text": [
      "                                                                                \r"
     ]
    }
   ],
   "source": [
    "fg_train_dataset = read_dataset(spark, 's3://dmetasoul-bucket/demo/risk/ulb/creditcard_train.csv')\n",
    "fg_test_dataset = read_dataset(spark, 's3://dmetasoul-bucket/demo/risk/ulb/creditcard_test.csv')"
   ]
  },
  {
   "cell_type": "code",
   "execution_count": 6,
   "id": "612f77a9-8943-4c81-b1e2-e1bbd5a3e325",
   "metadata": {},
   "outputs": [
    {
     "name": "stdout",
     "output_type": "stream",
     "text": [
      "root\n",
      " |-- Time: double (nullable = true)\n",
      " |-- V1: double (nullable = true)\n",
      " |-- V2: double (nullable = true)\n",
      " |-- V3: double (nullable = true)\n",
      " |-- V4: double (nullable = true)\n",
      " |-- V5: double (nullable = true)\n",
      " |-- V6: double (nullable = true)\n",
      " |-- V7: double (nullable = true)\n",
      " |-- V8: double (nullable = true)\n",
      " |-- V9: double (nullable = true)\n",
      " |-- V10: double (nullable = true)\n",
      " |-- V11: double (nullable = true)\n",
      " |-- V12: double (nullable = true)\n",
      " |-- V13: double (nullable = true)\n",
      " |-- V14: double (nullable = true)\n",
      " |-- V15: double (nullable = true)\n",
      " |-- V16: double (nullable = true)\n",
      " |-- V17: double (nullable = true)\n",
      " |-- V18: double (nullable = true)\n",
      " |-- V19: double (nullable = true)\n",
      " |-- V20: double (nullable = true)\n",
      " |-- V21: double (nullable = true)\n",
      " |-- V22: double (nullable = true)\n",
      " |-- V23: double (nullable = true)\n",
      " |-- V24: double (nullable = true)\n",
      " |-- V25: double (nullable = true)\n",
      " |-- V26: double (nullable = true)\n",
      " |-- V27: double (nullable = true)\n",
      " |-- V28: double (nullable = true)\n",
      " |-- Amount: double (nullable = true)\n",
      " |-- Class: double (nullable = true)\n",
      "\n"
     ]
    }
   ],
   "source": [
    "fg_train_dataset.printSchema()"
   ]
  },
  {
   "cell_type": "code",
   "execution_count": 7,
   "id": "b256cb36-c929-4c36-964b-5b4816102a17",
   "metadata": {},
   "outputs": [
    {
     "data": {
      "text/plain": [
       "['Time',\n",
       " 'V1',\n",
       " 'V2',\n",
       " 'V3',\n",
       " 'V4',\n",
       " 'V5',\n",
       " 'V6',\n",
       " 'V7',\n",
       " 'V8',\n",
       " 'V9',\n",
       " 'V10',\n",
       " 'V11',\n",
       " 'V12',\n",
       " 'V13',\n",
       " 'V14',\n",
       " 'V15',\n",
       " 'V16',\n",
       " 'V17',\n",
       " 'V18',\n",
       " 'V19',\n",
       " 'V20',\n",
       " 'V21',\n",
       " 'V22',\n",
       " 'V23',\n",
       " 'V24',\n",
       " 'V25',\n",
       " 'V26',\n",
       " 'V27',\n",
       " 'V28',\n",
       " 'Amount']"
      ]
     },
     "execution_count": 7,
     "metadata": {},
     "output_type": "execute_result"
    }
   ],
   "source": [
    "feature_cols = fg_train_dataset.columns[:-1]\n",
    "feature_cols"
   ]
  },
  {
   "cell_type": "code",
   "execution_count": 8,
   "id": "f206483a-aa0c-412e-9d0f-6bb1f010f572",
   "metadata": {},
   "outputs": [
    {
     "data": {
      "text/plain": [
       "'Class'"
      ]
     },
     "execution_count": 8,
     "metadata": {},
     "output_type": "execute_result"
    }
   ],
   "source": [
    "label_col = fg_train_dataset.columns[-1]\n",
    "label_col"
   ]
  },
  {
   "cell_type": "code",
   "execution_count": 9,
   "id": "aaec440f-6170-4e39-b3f7-eeacfc32616c",
   "metadata": {},
   "outputs": [],
   "source": [
    "train_data = get_vectorassembler(fg_train_dataset, label=label_col, features='features')\n",
    "test_data = get_vectorassembler(fg_test_dataset, label=label_col, features='features')"
   ]
  },
  {
   "cell_type": "code",
   "execution_count": 10,
   "id": "671bf0d0-f0f4-49fa-aafd-f68407353bcb",
   "metadata": {},
   "outputs": [
    {
     "name": "stderr",
     "output_type": "stream",
     "text": [
      "22/07/22 10:21:06 WARN package: Truncated the string representation of a plan since it was too large. This behavior can be adjusted by setting 'spark.sql.debug.maxToStringFields'.\n"
     ]
    },
    {
     "data": {
      "text/html": [
       "<div>\n",
       "<style scoped>\n",
       "    .dataframe tbody tr th:only-of-type {\n",
       "        vertical-align: middle;\n",
       "    }\n",
       "\n",
       "    .dataframe tbody tr th {\n",
       "        vertical-align: top;\n",
       "    }\n",
       "\n",
       "    .dataframe thead th {\n",
       "        text-align: right;\n",
       "    }\n",
       "</style>\n",
       "<table border=\"1\" class=\"dataframe\">\n",
       "  <thead>\n",
       "    <tr style=\"text-align: right;\">\n",
       "      <th></th>\n",
       "      <th>Class</th>\n",
       "      <th>features</th>\n",
       "    </tr>\n",
       "  </thead>\n",
       "  <tbody>\n",
       "    <tr>\n",
       "      <th>0</th>\n",
       "      <td>0.0</td>\n",
       "      <td>[28515.0, 1.2266432, 0.10198813, -0.08707244, ...</td>\n",
       "    </tr>\n",
       "    <tr>\n",
       "      <th>1</th>\n",
       "      <td>0.0</td>\n",
       "      <td>[83125.0, 1.1248479, 0.12560174, 0.2499616, 0....</td>\n",
       "    </tr>\n",
       "    <tr>\n",
       "      <th>2</th>\n",
       "      <td>0.0</td>\n",
       "      <td>[75537.0, -0.30790162, 1.0037148, 1.4042773, 0...</td>\n",
       "    </tr>\n",
       "    <tr>\n",
       "      <th>3</th>\n",
       "      <td>0.0</td>\n",
       "      <td>[156358.0, 2.1749187, -1.5354409, -0.72642803,...</td>\n",
       "    </tr>\n",
       "    <tr>\n",
       "      <th>4</th>\n",
       "      <td>0.0</td>\n",
       "      <td>[162523.0, -2.221556, 1.2619867, 2.0476425, 4....</td>\n",
       "    </tr>\n",
       "    <tr>\n",
       "      <th>5</th>\n",
       "      <td>0.0</td>\n",
       "      <td>[113992.0, -0.33519775, 0.8713775, 0.6327032, ...</td>\n",
       "    </tr>\n",
       "    <tr>\n",
       "      <th>6</th>\n",
       "      <td>0.0</td>\n",
       "      <td>[18653.0, -1.3059778, 1.7721184, 0.7417298, 0....</td>\n",
       "    </tr>\n",
       "    <tr>\n",
       "      <th>7</th>\n",
       "      <td>0.0</td>\n",
       "      <td>[133445.0, -0.30335563, 1.1449964, -0.84363854...</td>\n",
       "    </tr>\n",
       "    <tr>\n",
       "      <th>8</th>\n",
       "      <td>0.0</td>\n",
       "      <td>[87252.0, -0.46592036, 0.6283648, 1.4495686, 4...</td>\n",
       "    </tr>\n",
       "    <tr>\n",
       "      <th>9</th>\n",
       "      <td>0.0</td>\n",
       "      <td>[40607.0, 0.2710954, -2.7204888, 0.42742714, -...</td>\n",
       "    </tr>\n",
       "  </tbody>\n",
       "</table>\n",
       "</div>"
      ],
      "text/plain": [
       "   Class                                           features\n",
       "0    0.0  [28515.0, 1.2266432, 0.10198813, -0.08707244, ...\n",
       "1    0.0  [83125.0, 1.1248479, 0.12560174, 0.2499616, 0....\n",
       "2    0.0  [75537.0, -0.30790162, 1.0037148, 1.4042773, 0...\n",
       "3    0.0  [156358.0, 2.1749187, -1.5354409, -0.72642803,...\n",
       "4    0.0  [162523.0, -2.221556, 1.2619867, 2.0476425, 4....\n",
       "5    0.0  [113992.0, -0.33519775, 0.8713775, 0.6327032, ...\n",
       "6    0.0  [18653.0, -1.3059778, 1.7721184, 0.7417298, 0....\n",
       "7    0.0  [133445.0, -0.30335563, 1.1449964, -0.84363854...\n",
       "8    0.0  [87252.0, -0.46592036, 0.6283648, 1.4495686, 4...\n",
       "9    0.0  [40607.0, 0.2710954, -2.7204888, 0.42742714, -..."
      ]
     },
     "execution_count": 10,
     "metadata": {},
     "output_type": "execute_result"
    }
   ],
   "source": [
    "train_data.limit(10).toPandas()"
   ]
  },
  {
   "cell_type": "code",
   "execution_count": 11,
   "id": "32e5e8ed-7579-481a-bdf4-6ff8182772fe",
   "metadata": {},
   "outputs": [],
   "source": [
    "train, valid = train_data.randomSplit([0.90, 0.10], seed=2022)"
   ]
  },
  {
   "cell_type": "code",
   "execution_count": 12,
   "id": "93c0b0ea-b1c0-420f-b896-5b0d76e44003",
   "metadata": {},
   "outputs": [
    {
     "name": "stderr",
     "output_type": "stream",
     "text": [
      "                                                                                \r"
     ]
    }
   ],
   "source": [
    "model_params = {\n",
    "    'numEstimators': 100,\n",
    "    'bootstrap': False,\n",
    "    'maxSamples': 256,\n",
    "    'maxFeatures': 1.0,\n",
    "    'contamination': 0.02,\n",
    "    'contaminationError': 0.02 * 0.01,\n",
    "    'randomSeed': 2022\n",
    "}\n",
    "\n",
    "def train_isolationforest(train_dataset, feature_col, label_col, model_params):\n",
    "    from synapse.ml.isolationforest import IsolationForest\n",
    "    model = IsolationForest(featuresCol='features', predictionCol='predictedLabel', scoreCol='rawPrediction', **model_params)\n",
    "    model = model.fit(train_dataset)\n",
    "    return model\n",
    "\n",
    "def evaluate(predictions, label_col, metricName=\"areaUnderROC\"):\n",
    "    evaluator = BinaryClassificationEvaluator(labelCol=label_col, metricName=\"areaUnderROC\")\n",
    "    return evaluator.evaluate(predictions)\n",
    "\n",
    "model = train_isolationforest(train, 'features', 'Class', model_params)"
   ]
  },
  {
   "cell_type": "code",
   "execution_count": 13,
   "id": "cf614b65-9230-41b8-b610-2d98cffbc7ec",
   "metadata": {},
   "outputs": [
    {
     "name": "stdout",
     "output_type": "stream",
     "text": [
      "train dataset prediciton:\n"
     ]
    },
    {
     "name": "stderr",
     "output_type": "stream",
     "text": [
      "                                                                                \r"
     ]
    },
    {
     "name": "stdout",
     "output_type": "stream",
     "text": [
      "train dataset auc: 0.9490379546606417\n"
     ]
    }
   ],
   "source": [
    "print(\"train dataset prediciton:\")\n",
    "predictions = model.transform(train_data)\n",
    "print(\"train dataset auc:\", evaluate(predictions, label_col))"
   ]
  },
  {
   "cell_type": "code",
   "execution_count": 14,
   "id": "9b07945d-bf55-4e7a-bce9-820f7ccae53f",
   "metadata": {},
   "outputs": [
    {
     "name": "stdout",
     "output_type": "stream",
     "text": [
      "validation dataset prediciton:\n"
     ]
    },
    {
     "name": "stderr",
     "output_type": "stream",
     "text": [
      "                                                                                \r"
     ]
    },
    {
     "name": "stdout",
     "output_type": "stream",
     "text": [
      "validation dataset auc: 0.9882100909197331\n"
     ]
    }
   ],
   "source": [
    "print(\"validation dataset prediciton:\")\n",
    "predictions = model.transform(valid)\n",
    "print(\"validation dataset auc:\", evaluate(predictions, label_col))"
   ]
  },
  {
   "cell_type": "code",
   "execution_count": 15,
   "id": "1af3c88d-318b-4a11-9aa6-5670a157db15",
   "metadata": {},
   "outputs": [
    {
     "name": "stderr",
     "output_type": "stream",
     "text": [
      "22/07/22 10:21:23 WARN IsolationForest: Observed contamination is 0.020200837995365276, which is outside the expected range of 0.02 +/- 2.0E-4. If this is acceptable to you, then it is OK to proceed. If there is a very large discrepancy between observed and expected values, then please try retraining the model with an exact threshold calculation (set the contaminationError parameter value to 0.0).\n"
     ]
    }
   ],
   "source": [
    "model = train_isolationforest(train_data, 'features', 'Class', model_params)"
   ]
  },
  {
   "cell_type": "code",
   "execution_count": 16,
   "id": "b4635383-fae7-43a3-a182-a52be8cfacd3",
   "metadata": {},
   "outputs": [
    {
     "name": "stdout",
     "output_type": "stream",
     "text": [
      "test dataset prediciton:\n"
     ]
    },
    {
     "name": "stderr",
     "output_type": "stream",
     "text": [
      "                                                                                \r"
     ]
    },
    {
     "name": "stdout",
     "output_type": "stream",
     "text": [
      "test dataset auc: 0.9772505561884095\n"
     ]
    }
   ],
   "source": [
    "print(\"test dataset prediciton:\")\n",
    "predictions = model.transform(test_data)\n",
    "print(\"test dataset auc:\", evaluate(predictions, label_col))"
   ]
  },
  {
   "cell_type": "code",
   "execution_count": 17,
   "id": "52f246f2-785e-4794-9175-8548ec9abce4",
   "metadata": {},
   "outputs": [],
   "source": [
    "predictionAndLabels = predictions.select('prediction', F.col(label_col).cast(DoubleType()))\\\n",
    "                                 .withColumnRenamed(label_col, 'label')\n",
    "metrics = MulticlassMetrics(predictionAndLabels.rdd)"
   ]
  },
  {
   "cell_type": "code",
   "execution_count": 18,
   "id": "02a2be7b-9f52-4152-939c-baaa03b51b13",
   "metadata": {},
   "outputs": [
    {
     "name": "stderr",
     "output_type": "stream",
     "text": [
      "                                                                                \r"
     ]
    },
    {
     "data": {
      "text/plain": [
       "<AxesSubplot:>"
      ]
     },
     "execution_count": 18,
     "metadata": {},
     "output_type": "execute_result"
    },
    {
     "data": {
      "image/png": "[encoded data removed]",
      "text/plain": [
       "<Figure size 720x504 with 2 Axes>"
      ]
     },
     "metadata": {
      "needs_background": "light"
     },
     "output_type": "display_data"
    }
   ],
   "source": [
    "import matplotlib.pyplot as plt\n",
    "import seaborn as sn\n",
    "plt.figure(figsize = (10,7))\n",
    "sn.heatmap(metrics.confusionMatrix().toArray(), \n",
    "           xticklabels=['Not Fraud', 'Fraud'],\n",
    "           yticklabels=['Not Fraud', 'Fraud'],\n",
    "           linewidths=5, fmt='g', annot=True)"
   ]
  },
  {
   "cell_type": "code",
   "execution_count": 19,
   "id": "53782ee2-f726-48d2-b95d-533369dea4c9",
   "metadata": {},
   "outputs": [
    {
     "name": "stderr",
     "output_type": "stream",
     "text": [
      "                                                                                \r"
     ]
    },
    {
     "name": "stdout",
     "output_type": "stream",
     "text": [
      "label:  [1. 0. 0. 0. 0. 0. 0. 0. 0. 0.]\n",
      "prediction:  [0.70899626 0.44558525 0.38598698 0.38934759 0.38030204 0.41974639\n",
      " 0.37652161 0.40660241 0.40481785 0.50283555]\n",
      "KS statistic:  0.8603672754795453\n"
     ]
    },
    {
     "data": {
      "image/png": "[encoded data removed]",
      "text/plain": [
       "<Figure size 432x288 with 1 Axes>"
      ]
     },
     "metadata": {
      "needs_background": "light"
     },
     "output_type": "display_data"
    }
   ],
   "source": [
    "import sys\n",
    "import matplotlib.pyplot as plt\n",
    "\n",
    "sys.path.append('../../') \n",
    "from common.ks_utils import ks_2samp, ks_curve\n",
    "\n",
    "label = np.array(predictions.select(label_col).collect()).reshape(-1).astype(np.float32)\n",
    "prediction = np.array(predictions.select('rawPrediction').collect())[:, 0].reshape(-1)\n",
    "print('label: ', label[0:10])\n",
    "print('prediction: ', prediction[0:10])\n",
    "\n",
    "ks = ks_2samp(label, prediction)\n",
    "print(\"KS statistic: \", ks.statistic)\n",
    "ks_curve(label, prediction)\n",
    "plt.show()"
   ]
  },
  {
   "cell_type": "code",
   "execution_count": 20,
   "id": "f86249ee-f08b-454d-aad4-25064072b204",
   "metadata": {},
   "outputs": [
    {
     "name": "stdout",
     "output_type": "stream",
     "text": [
      "Balanced accuracy = 0.9136642686217995\n",
      "Cohen's Kappa = 0.05922978034871906\n"
     ]
    }
   ],
   "source": [
    "from sklearn.metrics import balanced_accuracy_score, cohen_kappa_score\n",
    "\n",
    "# scikit-learn expects 0/1 predictions, so we threshold our raw predictions\n",
    "y_preds = np.where(prediction > 0.5, 1, 0)\n",
    "print(\"Balanced accuracy = {}\".format(balanced_accuracy_score(label, y_preds)))\n",
    "print(\"Cohen's Kappa = {}\".format(cohen_kappa_score(label, y_preds)))"
   ]
  },
  {
   "cell_type": "code",
   "execution_count": 21,
   "id": "dfc3f7ca-8d78-4d8f-bd04-a3cbc841b4a7",
   "metadata": {},
   "outputs": [
    {
     "name": "stderr",
     "output_type": "stream",
     "text": [
      "22/07/22 10:21:48 WARN ExecutorPodsWatchSnapshotSource: Kubernetes client has been closed (this is expected if the application is shutting down.)\n"
     ]
    }
   ],
   "source": [
    "spark.stop()"
   ]
  },
  {
   "cell_type": "code",
   "execution_count": null,
   "id": "8c7158eb-9ffb-4a66-8ff9-c1f56277224e",
   "metadata": {},
   "outputs": [],
   "source": []
  }
 ],
 "metadata": {
  "kernelspec": {
   "display_name": "Python 3 (ipykernel)",
   "language": "python",
   "name": "python3"
  },
  "language_info": {
   "codemirror_mode": {
    "name": "ipython",
    "version": 3
   },
   "file_extension": ".py",
   "mimetype": "text/x-python",
   "name": "python",
   "nbconvert_exporter": "python",
   "pygments_lexer": "ipython3",
   "version": "3.8.10"
  }
 },
 "nbformat": 4,
 "nbformat_minor": 5
}
