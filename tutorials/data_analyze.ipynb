{
 "cells": [
  {
   "cell_type": "code",
   "execution_count": 2,
   "id": "5cfef096-b2ed-423d-9956-2cb6f8f18988",
   "metadata": {
    "tags": []
   },
   "outputs": [
    {
     "data": {
      "text/html": [
       "<div>\n",
       "<style scoped>\n",
       "    .dataframe tbody tr th:only-of-type {\n",
       "        vertical-align: middle;\n",
       "    }\n",
       "\n",
       "    .dataframe tbody tr th {\n",
       "        vertical-align: top;\n",
       "    }\n",
       "\n",
       "    .dataframe thead th {\n",
       "        text-align: right;\n",
       "    }\n",
       "</style>\n",
       "<table border=\"1\" class=\"dataframe\">\n",
       "  <thead>\n",
       "    <tr style=\"text-align: right;\">\n",
       "      <th></th>\n",
       "      <th>0</th>\n",
       "    </tr>\n",
       "  </thead>\n",
       "  <tbody>\n",
       "    <tr>\n",
       "      <th>0</th>\n",
       "      <td>0\\t\\t478\\t1\\t2\\t9\\t6\\t0\\t36\\t3\\t1\\t5\\t721\\t1\\t...</td>\n",
       "    </tr>\n",
       "    <tr>\n",
       "      <th>1</th>\n",
       "      <td>0\\t42\\t45\\t19\\t\\t\\t0\\t0\\t2\\t33\\t0\\t\\t1890\\t34\\...</td>\n",
       "    </tr>\n",
       "    <tr>\n",
       "      <th>2</th>\n",
       "      <td>0\\t\\t\\t\\t\\t\\t0\\t0\\t58\\t15\\t0\\t\\t720\\t\\t4f50727...</td>\n",
       "    </tr>\n",
       "    <tr>\n",
       "      <th>3</th>\n",
       "      <td>0\\t9\\t182\\t\\t17\\t3\\t0\\t1\\t35\\t1\\t0\\t3\\t1524\\t\\...</td>\n",
       "    </tr>\n",
       "    <tr>\n",
       "      <th>4</th>\n",
       "      <td>0\\t12\\t517\\t2\\t250\\t2\\t0\\t0\\t183\\t20\\t0\\t1\\t39...</td>\n",
       "    </tr>\n",
       "  </tbody>\n",
       "</table>\n",
       "</div>"
      ],
      "text/plain": [
       "                                                   0\n",
       "0  0\\t\\t478\\t1\\t2\\t9\\t6\\t0\\t36\\t3\\t1\\t5\\t721\\t1\\t...\n",
       "1  0\\t42\\t45\\t19\\t\\t\\t0\\t0\\t2\\t33\\t0\\t\\t1890\\t34\\...\n",
       "2  0\\t\\t\\t\\t\\t\\t0\\t0\\t58\\t15\\t0\\t\\t720\\t\\t4f50727...\n",
       "3  0\\t9\\t182\\t\\t17\\t3\\t0\\t1\\t35\\t1\\t0\\t3\\t1524\\t\\...\n",
       "4  0\\t12\\t517\\t2\\t250\\t2\\t0\\t0\\t183\\t20\\t0\\t1\\t39..."
      ]
     },
     "execution_count": 2,
     "metadata": {},
     "output_type": "execute_result"
    }
   ],
   "source": [
    "import pandas as pd\n",
    "\n",
    "data_path = \"data/train/day_0_0.001_train.csv\"\n",
    "\n",
    "df = pd.read_csv(data_path, header=None)\n",
    "df.head()"
   ]
  },
  {
   "cell_type": "code",
   "execution_count": 8,
   "id": "f33a3c62-cbd0-4cfe-9888-e84ae4c8ae7e",
   "metadata": {
    "tags": []
   },
   "outputs": [
    {
     "data": {
      "text/plain": [
       "'0\\t42\\t45\\t19\\t\\t\\t0\\t0\\t2\\t33\\t0\\t\\t1890\\t34\\taae964f6\\t3f664e6f\\t08677c20\\t6521d620\\tc9647fd7\\t6fcd6dcb\\t77f6cee1\\tc6141b7c\\t2e4e821f\\tf0fabe60\\t5e44ee5d\\t12716184\\te07cc34d\\t\\t5bbc1031\\t\\t\\tb8170bba\\t9512c20b\\t6942d23f\\tbe5a4ad0\\t5d136f44\\t\\t4237169e\\tff654802\\t2ccea557'"
      ]
     },
     "execution_count": 8,
     "metadata": {},
     "output_type": "execute_result"
    }
   ],
   "source": [
    "example = df.loc[1, 0]\n",
    "example"
   ]
  },
  {
   "cell_type": "code",
   "execution_count": 9,
   "id": "240b3fef-cca8-4543-9926-c70bc5bfbfd2",
   "metadata": {
    "tags": []
   },
   "outputs": [],
   "source": [
    "features = example.split('\\t')"
   ]
  },
  {
   "cell_type": "code",
   "execution_count": 10,
   "id": "f0125f76-b84b-4986-bbda-d3af0871d0d0",
   "metadata": {
    "tags": []
   },
   "outputs": [
    {
     "data": {
      "text/plain": [
       "40"
      ]
     },
     "execution_count": 10,
     "metadata": {},
     "output_type": "execute_result"
    }
   ],
   "source": [
    "len(features)"
   ]
  },
  {
   "cell_type": "code",
   "execution_count": 11,
   "id": "e013b7d0-7454-4d52-87fc-08d0c164a301",
   "metadata": {
    "tags": []
   },
   "outputs": [
    {
     "data": {
      "text/plain": [
       "['0',\n",
       " '42',\n",
       " '45',\n",
       " '19',\n",
       " '',\n",
       " '',\n",
       " '0',\n",
       " '0',\n",
       " '2',\n",
       " '33',\n",
       " '0',\n",
       " '',\n",
       " '1890',\n",
       " '34',\n",
       " 'aae964f6',\n",
       " '3f664e6f',\n",
       " '08677c20',\n",
       " '6521d620',\n",
       " 'c9647fd7',\n",
       " '6fcd6dcb',\n",
       " '77f6cee1',\n",
       " 'c6141b7c',\n",
       " '2e4e821f',\n",
       " 'f0fabe60',\n",
       " '5e44ee5d',\n",
       " '12716184',\n",
       " 'e07cc34d',\n",
       " '',\n",
       " '5bbc1031',\n",
       " '',\n",
       " '',\n",
       " 'b8170bba',\n",
       " '9512c20b',\n",
       " '6942d23f',\n",
       " 'be5a4ad0',\n",
       " '5d136f44',\n",
       " '',\n",
       " '4237169e',\n",
       " 'ff654802',\n",
       " '2ccea557']"
      ]
     },
     "execution_count": 11,
     "metadata": {},
     "output_type": "execute_result"
    }
   ],
   "source": [
    "features"
   ]
  },
  {
   "cell_type": "code",
   "execution_count": null,
   "id": "9045523d-1d6e-45a5-8578-7c74cbd561e4",
   "metadata": {},
   "outputs": [],
   "source": []
  }
 ],
 "metadata": {
  "kernelspec": {
   "display_name": "conda_metaspore",
   "language": "python",
   "name": "conda_metaspore"
  },
  "language_info": {
   "codemirror_mode": {
    "name": "ipython",
    "version": 3
   },
   "file_extension": ".py",
   "mimetype": "text/x-python",
   "name": "python",
   "nbconvert_exporter": "python",
   "pygments_lexer": "ipython3",
   "version": "3.8.19"
  }
 },
 "nbformat": 4,
 "nbformat_minor": 5
}
