{
 "cells": [
  {
   "cell_type": "code",
   "execution_count": null,
   "metadata": {},
   "outputs": [],
   "source": [
    "import sagemaker\n",
    "from sagemaker.pytorch import PyTorch\n",
    "\n",
    "s3_output_path = 's3://mv-mtg-di-for-poc-datalab/output/dev/model_out/'\n",
    "\n",
    "role = sagemaker.get_execution_role()\n",
    "\n",
    "estimator = PyTorch(\n",
    "    entry_point='train.py',\n",
    "    role=role,\n",
    "    instance_count=2,\n",
    "    instance_type='ml.c7i.8xlarge',\n",
    "    framework_version='1.8.1',\n",
    "    py_version='py3',\n",
    "    hyperparameters={\n",
    "        'root-dir': 's3://mv-mtg-di-for-poc-datalab',\n",
    "        'column-name-path': 's3://mv-mtg-di-for-poc-datalab/schema/column_name_mobivista.txt',\n",
    "        'combine-schema-path': 's3://mv-mtg-di-for-poc-datalab/schema/combine_schema_mobivista.txt',\n",
    "        'file-base-path': 's3://mv-mtg-di-for-poc-datalab/2024/06/14/00/',\n",
    "        'num-files': 10,\n",
    "        'worker-count': 10,\n",
    "        'server-count': 10,\n",
    "        'model-out-path': 's3://mv-mtg-di-for-poc-datalab/output/dev/model_out/',\n",
    "        'experiment-name': '0.1',\n",
    "        'training-epochs': 1\n",
    "    },\n",
    "    output_path=s3_output_path\n",
    ")\n",
    "\n",
    "estimator.fit()"
   ]
  }
 ],
 "metadata": {
  "language_info": {
   "name": "python"
  }
 },
 "nbformat": 4,
 "nbformat_minor": 2
}
